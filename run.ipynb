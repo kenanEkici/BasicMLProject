{
 "cells": [
  {
   "cell_type": "code",
   "execution_count": 1,
   "metadata": {},
   "outputs": [],
   "source": [
    "import os\n",
    "import tarfile\n",
    "from six.moves import urllib\n",
    "import pandas as pd\n",
    "import matplotlib.pyplot as plt\n",
    "\n",
    "DOWNLOAD_URL = \"https://raw.githubusercontent.com/ageron/handson-ml/master/datasets/housing/housing.tgz\"\n",
    "DATA_PATH = \"data\"\n",
    "FILE_NAME = \"housing.tgz\"\n",
    "CSV_NAME = \"housing.csv\"\n",
    "\n",
    "def fetch_data(download_url=DOWNLOAD_URL, data_path=DATA_PATH, file_name=FILE_NAME):\n",
    "    if not os.path.isdir(data_path): \n",
    "        os.makedirs(data_path)\n",
    "    full_path = os.path.join(data_path, file_name)    \n",
    "    urllib.request.urlretrieve(url=download_url, filename=full_path)\n",
    "    file = tarfile.open(full_path)\n",
    "    file.extractall(path=data_path)\n",
    "    file.close()\n",
    "    os.remove(full_path)\n",
    "\n",
    "def load_csv(data_path=DATA_PATH, csv_name=CSV_NAME):\n",
    "    csv_path= os.path.join(data_path, csv_name)\n",
    "    return pd.read_csv(csv_path)\n",
    "\n",
    "if __name__ == \"__main__\": \n",
    "    fetch_data()\n",
    "    housing_data = load_csv()\n",
    "    #print(housing_data.head()) \n",
    "    #print(housing_data.info())\n",
    "    #print(housing_data[\"ocean_proximity\"].value_counts())\n",
    "    #print(housing_data.describe())\n",
    "    #housing_data.hist(bins=50, figsize=(20,15))\n",
    "    #plt.show() #only works in Jupyter notebook\n",
    "    \n"
   ]
  },
  {
   "cell_type": "code",
   "execution_count": null,
   "metadata": {},
   "outputs": [],
   "source": []
  }
 ],
 "metadata": {
  "kernelspec": {
   "display_name": "Python 3",
   "language": "python",
   "name": "python3"
  },
  "language_info": {
   "codemirror_mode": {
    "name": "ipython",
    "version": 3
   },
   "file_extension": ".py",
   "mimetype": "text/x-python",
   "name": "python",
   "nbconvert_exporter": "python",
   "pygments_lexer": "ipython3",
   "version": "3.7.2"
  }
 },
 "nbformat": 4,
 "nbformat_minor": 2
}
